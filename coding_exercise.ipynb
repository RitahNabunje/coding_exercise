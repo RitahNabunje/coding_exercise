{
 "cells": [
  {
   "cell_type": "code",
   "execution_count": 44,
   "metadata": {
    "scrolled": true
   },
   "outputs": [
    {
     "name": "stdout",
     "output_type": "stream",
     "text": [
      "7\n",
      "1780322\n",
      "1770662\n",
      "1952351\n",
      "2027930\n"
     ]
    }
   ],
   "source": [
    "# import the Biopython module\n",
    "from Bio import SeqIO\n",
    "\n",
    "# import default dict for the kmer collections\n",
    "from collections import defaultdict\n",
    "\n",
    "# example\n",
    "seq = \"TTGAAAGAAAAACAATTTTG\"\n",
    "k_dict = defaultdict(int)\n",
    "for idx in range(0, len(seq)-13):\n",
    "    kmer = seq[idx:(idx+14)]\n",
    "    if kmer in k_dict:\n",
    "        k_dict[kmer] = k_dict.get(kmer,0)+1\n",
    "    else:\n",
    "        k_dict[kmer] = 1\n",
    "print(len(k_dict))\n",
    "\n",
    "def count_kmers_from_fasta(fasta_file, k): \n",
    "    #read the input file\n",
    "    fasta_entry = SeqIO.parse(open(fasta_file), 'fasta')\n",
    "    # make empty dict\n",
    "    kmers_dict = defaultdict(int)\n",
    "    # read each contig separately\n",
    "#     length = 0\n",
    "#     n = 0\n",
    "    for contig in fasta_entry:\n",
    "        sequence = str(contig.seq)\n",
    "#         length  += len(sequence)\n",
    "#         n +=1\n",
    "        # obtain kmers across the contig seq \n",
    "        for idx in range(0, len(sequence)-(k-1)): # last kmer is the last k nt in the sequence\n",
    "            kmer = sequence[idx:(idx+k)]\n",
    "            # store kmers to a dict if doesn't already exist, but increase count if it already exists\n",
    "            if kmer in kmers_dict:\n",
    "                kmers_dict[kmer] = kmers_dict.get(kmer,0)+1\n",
    "            else:\n",
    "                kmers_dict[kmer] = 1\n",
    "    # count the occurences of kmers the file\n",
    "    return len(kmers_dict)\n",
    "# , length, n\n",
    "    \n",
    "# read in the DNA sequence from the above FASTA files\n",
    "# count the occurences of 14-mers in each of the four files\n",
    "files = (\"s_pneumoniae_genomes/14412_3#82.contigs_velvet.fa\", \n",
    "         \"s_pneumoniae_genomes/14412_3#84.contigs_velvet.fa\",\n",
    "         \"s_pneumoniae_genomes/R6.fa\",\"s_pneumoniae_genomes/TIGR4.fa\" )\n",
    "for file in files:\n",
    "    print(count_kmers_from_fasta(file, 14))\n",
    "\n"
   ]
  },
  {
   "cell_type": "code",
   "execution_count": 43,
   "metadata": {},
   "outputs": [
    {
     "data": {
      "text/plain": [
       "1832663"
      ]
     },
     "execution_count": 43,
     "metadata": {},
     "output_type": "execute_result"
    }
   ],
   "source": [
    "1832845-(14*13)"
   ]
  },
  {
   "cell_type": "code",
   "execution_count": 71,
   "metadata": {},
   "outputs": [
    {
     "name": "stdout",
     "output_type": "stream",
     "text": [
      "AnB: 5, AuB: 9\n",
      "jaccard index : 0.5555555555555556\n",
      "jaccard distance: 0.4444444444444444\n"
     ]
    }
   ],
   "source": [
    "# calculates the Jaccard distance between two of the input samples\n",
    "# example\n",
    "A = [\"TTGAAAGAAAAACA\", \"TGAAAGAAAAACAA\",\n",
    "     \"GAAAGAAAAACAAT\", \"AAAGAAAAACAATT\",\n",
    "     \"AAGAAAAACAATTT\", \"AGAAAAACAATTTT\", \n",
    "     \"GAAAAACAATTTTG\"]\n",
    "B = [\"TTGAAAGAAAAACA\", \"TGAAAGAAAAACAA\", \n",
    "     \"GAAAGAAAAACAAT\", \"AAAGAAAAACAATT\",\n",
    "     \"GAAAAACAATTTTG\", \"CTCGATCCATGTAT\", \n",
    "     \"TCGATCCATGTATG\"]\n",
    "\n",
    "dictA = defaultdict(int)\n",
    "dictB = defaultdict(int)\n",
    "for kmer in A:\n",
    "    if kmer in dictA:\n",
    "        dictA[kmer] = dictA.get(kmer,0)+1\n",
    "    else:\n",
    "        dictA[kmer] = 1\n",
    "for kmer in B:\n",
    "    if kmer in dictB:\n",
    "        dictB[kmer] = dictB.get(kmer,0)+1\n",
    "    else:\n",
    "        dictB[kmer] = 1\n",
    "# count shared and unique kmers between samples\n",
    "AnB, AuB = 0, 0\n",
    "for k in dictA :\n",
    "    if k in dictB:\n",
    "        AnB +=1\n",
    "        AuB +=1\n",
    "        del dictB[k] # remove the shared kmer from the dict\n",
    "    else:\n",
    "        AuB +=1\n",
    "# add the unique kmers in dictB to the union\n",
    "AuB += len(dictB)\n",
    "print(f'AnB: {AnB}, AuB: {AuB}')\n",
    "\n",
    "# calculate the jaccard index\n",
    "j_index = AnB/AuB\n",
    "print(f'jaccard index : {j_index}')\n",
    "\n",
    "# calculate the jaccard distance\n",
    "j_dist = 1-j_index\n",
    "print(f'jaccard distance: {j_dist}') "
   ]
  },
  {
   "cell_type": "code",
   "execution_count": 50,
   "metadata": {},
   "outputs": [
    {
     "name": "stdout",
     "output_type": "stream",
     "text": [
      "jaccard index : 0.43923666207454476\n"
     ]
    },
    {
     "data": {
      "text/plain": [
       "0.5607633379254553"
      ]
     },
     "execution_count": 50,
     "metadata": {},
     "output_type": "execute_result"
    }
   ],
   "source": [
    "# calculates the Jaccard distance between two of the input samples\n",
    "\n",
    "def fasta_to_kmers(fasta, k_value):\n",
    "    fasta_entry = SeqIO.parse(open(fasta), 'fasta')\n",
    "    kmers_dict = defaultdict(int)\n",
    "    # treat each contig as separate\n",
    "    for contig in fasta_entry:\n",
    "        sequence = str(contig.seq)\n",
    "        # obtain kmers across the contig seq \n",
    "        for idx in range(0, len(sequence)-(k_value-1)): # last kmer is the last k nt in the sequence\n",
    "            kmer = sequence[idx:(idx+k_value)]\n",
    "            # store kmers to a dict if doesn't already exist, but increase count if it already exists\n",
    "            if kmer in kmers_dict:\n",
    "                kmers_dict[kmer] = kmers_dict.get(kmer,0)+1\n",
    "            else:\n",
    "                kmers_dict[kmer] = 1\n",
    "    return kmers_dict\n",
    "\n",
    "def cal_jaccard_distance(fasta1, fasta2, k): \n",
    "    #read the input files and obtain kmers\n",
    "    kmers_dictA = fasta_to_kmers(fasta1, k)\n",
    "    kmers_dictB = fasta_to_kmers(fasta2, k)\n",
    "    \n",
    "    # count shared and unique kmers between samples\n",
    "    AnB, AuB = 0, 0\n",
    "    for kmer in kmers_dictA :\n",
    "        if kmer in kmers_dictB: # shared kmers between the two samples\n",
    "            AnB +=1\n",
    "            AuB +=1\n",
    "            del kmers_dictB[kmer] # remove the shared kmer from the B dict\n",
    "        else: # unique kmers from A\n",
    "            AuB +=1\n",
    "    # add the unique kmers in B to the union\n",
    "    AuB += len(kmers_dictB)\n",
    "#     print(f'AnB: {AnB}, AuB: {AuB}')\n",
    "\n",
    "    # calculate the jaccard index\n",
    "    j_index = AnB/AuB\n",
    "    print(f'jaccard index : {j_index}')\n",
    "\n",
    "    # calculate the jaccard distance\n",
    "    j_dist = 1-j_index\n",
    "#     print(f'jaccard distance: {j_dist}') \n",
    "    return j_dist\n",
    "    \n",
    "cal_jaccard_distance(\"s_pneumoniae_genomes/14412_3#82.contigs_velvet.fa\", \n",
    "         \"s_pneumoniae_genomes/14412_3#84.contigs_velvet.fa\", 14)"
   ]
  },
  {
   "cell_type": "code",
   "execution_count": 68,
   "metadata": {},
   "outputs": [
    {
     "name": "stdout",
     "output_type": "stream",
     "text": [
      "3ad3bb24\n"
     ]
    }
   ],
   "source": [
    "import xxhash\n",
    "# some 14-mers for this example\n",
    "kmers = [\"TTGAAAGAAAAACA\",\"TGAAAGAAAAACAA\",\"GAAAGAAAAACAAT\",\n",
    "         \"AAAGAAAAACAATT\", \"AAGAAAAACAATTT\", \"AGAAAAACAATTTT\",\n",
    "         \"GAAAAACAATTTTG\"]\n",
    "# calculate a hash of the first k-mer, this comes back as a hex string.\n",
    "print(xxhash.xxh32(kmers[0]).hexdigest())"
   ]
  },
  {
   "cell_type": "code",
   "execution_count": 69,
   "metadata": {},
   "outputs": [
    {
     "data": {
      "text/plain": [
       "['3ad3bb24',\n",
       " 'dc529a4b',\n",
       " '45fab9d4',\n",
       " '2d857675',\n",
       " '055d3d72',\n",
       " 'c3967606',\n",
       " 'e864aa15']"
      ]
     },
     "execution_count": 69,
     "metadata": {},
     "output_type": "execute_result"
    }
   ],
   "source": [
    "# Run on all the k-mers\n",
    "hash1 = []\n",
    "for kmer in kmers:\n",
    "    hash1.append(xxhash.xxh32(kmer).hexdigest())\n",
    "hash1"
   ]
  },
  {
   "cell_type": "code",
   "execution_count": 70,
   "metadata": {},
   "outputs": [
    {
     "data": {
      "text/plain": [
       "True"
      ]
     },
     "execution_count": 70,
     "metadata": {},
     "output_type": "execute_result"
    }
   ],
   "source": [
    "# Confirm the same hashes are generated on repeated runs (so they are comparable between samples)\n",
    "hash2 =[]\n",
    "for kmer in kmers:\n",
    "    hash2.append(xxhash.xxh32(kmer).hexdigest())\n",
    "hash2==hash1"
   ]
  },
  {
   "cell_type": "code",
   "execution_count": 81,
   "metadata": {},
   "outputs": [
    {
     "data": {
      "text/plain": [
       "['055d3d72',\n",
       " '2d857675',\n",
       " '3ad3bb24',\n",
       " '45fab9d4',\n",
       " 'c3967606',\n",
       " 'dc529a4b',\n",
       " 'e864aa15']"
      ]
     },
     "execution_count": 81,
     "metadata": {},
     "output_type": "execute_result"
    }
   ],
   "source": [
    "# get dictionary\n",
    "dict82 = fasta_to_kmers(\"s_pneumoniae_genomes/14412_3#82.contigs_velvet.fa\", 14)\n",
    "dict84 = fasta_to_kmers(\"s_pneumoniae_genomes/14412_3#84.contigs_velvet.fa\", 14)\n",
    "\n",
    "def dict_hash(the_dict):\n",
    "    result = []\n",
    "    for key in the_dict:\n",
    "        result.append(xxhash.xxh32(key).hexdigest())\n",
    "    return result\n",
    "# loop\n",
    "files = (\"s_pneumoniae_genomes/14412_3#82.contigs_velvet.fa\", \"s_pneumoniae_genomes/14412_3#84.contigs_velvet.fa\")\n",
    "for file in files:\n",
    "    dict_file = fasta_to_kmers(file, 14)\n",
    "    hashes = dict_hash(dict_file)\n",
    "    sorted_hashes = sorted(hashes)\n",
    "    s = 1000\n",
    "    smallest = sorted_hashes[0:1000]\n",
    "    #save smallest to a text file\n",
    "    textfile = open(\"a_file.txt\", \"w\")\n",
    "    for element in a_list:\n",
    "        textfile.write(element + \"\\n\")\n",
    "    textfile.close()"
   ]
  },
  {
   "cell_type": "code",
   "execution_count": null,
   "metadata": {},
   "outputs": [],
   "source": []
  }
 ],
 "metadata": {
  "kernelspec": {
   "display_name": "Python 3",
   "language": "python",
   "name": "python3"
  },
  "language_info": {
   "codemirror_mode": {
    "name": "ipython",
    "version": 3
   },
   "file_extension": ".py",
   "mimetype": "text/x-python",
   "name": "python",
   "nbconvert_exporter": "python",
   "pygments_lexer": "ipython3",
   "version": "3.8.3"
  }
 },
 "nbformat": 4,
 "nbformat_minor": 4
}
